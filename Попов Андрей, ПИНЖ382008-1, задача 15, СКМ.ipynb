{
 "cells": [
  {
   "cell_type": "markdown",
   "id": "central-cancer",
   "metadata": {},
   "source": [
    " #  Матричное умножение\n",
    "\n"
   ]
  },
  {
   "cell_type": "markdown",
   "id": "tough-glasgow",
   "metadata": {},
   "source": [
    "##### Задача: \n",
    "Реализовать 6 алгоритмов матричного умножения с помощью вложенных циклов i,j,k. Для серии случайно сгенерированных матриц больших размеров замерить время и нарисовать графики зависимости времени выполнения функции от порядка матрицы.\n",
    "#####  Цель: \n",
    "Обьяснить, почему требуется различное время на выполение написанных функций."
   ]
  },
  {
   "cell_type": "markdown",
   "id": "determined-tongue",
   "metadata": {},
   "source": [
    "Функции для вычисления произведения матриц:"
   ]
  },
  {
   "cell_type": "code",
   "execution_count": 34,
   "id": "useful-mongolia",
   "metadata": {},
   "outputs": [],
   "source": [
    "import numpy as np\n",
    "import time \n",
    "import matplotlib.pyplot as plt\n",
    "from random import randint\n",
    "%matplotlib inline"
   ]
  },
  {
   "cell_type": "code",
   "execution_count": 4,
   "id": "rural-newcastle",
   "metadata": {
    "scrolled": true
   },
   "outputs": [],
   "source": [
    "def multijk(n):\n",
    "    s=n#size - размер\n",
    "    m1=np.copy(mat1)\n",
    "    m2=np.copy(mat2)\n",
    "    empt_m1=np.copy(zeromat)\n",
    "    start_time=time.time()\n",
    "    for i in range(len(m1)):\n",
    "        for j in range(len(m2[0])):\n",
    "            for k in range(len(m2)):\n",
    "                empt_m1[i][j]+=m1[i][k]*m2[k][j]\n",
    "    t = time.time()-start_time\n",
    "    print(\"time:\",t)\n",
    "    answer1.append(t)\n",
    "    #print(empt_m1)\n",
    "\n",
    "def multjki(n):\n",
    "    s=n#size - размер\n",
    "    m3=np.copy(mat1)\n",
    "    m4=np.copy(mat2)\n",
    "    empt_m2=np.copy(zeromat)\n",
    "    start_time=time.time()\n",
    "    for j in range(len(m4[0])):        \n",
    "        for k in range(len(m4)):\n",
    "            for i in range(len(m3)):\n",
    "                empt_m2[i][j]+=m3[i][k]*m4[k][j]\n",
    "    t = time.time()-start_time\n",
    "    print(\"time:\",t)\n",
    "    answer2.append(t)\n",
    "    #print(empt_m2)\n",
    "\n",
    "def multjik(n):\n",
    "    s=n#size - размер\n",
    "    m5=np.copy(mat1)\n",
    "    m6=np.copy(mat2)\n",
    "    empt_m3=np.copy(zeromat)\n",
    "    start_time=time.time()\n",
    "    for j in range(len(m6[0])):\n",
    "        for i in range(len(m5)):      \n",
    "            for k in range(len(m6)):\n",
    "                empt_m3[i][j]+=m5[i][k]*m6[k][j]\n",
    "    t = time.time()-start_time\n",
    "    print(\"time:\",t)\n",
    "    answer3.append(t)\n",
    "    #print(empt_m3)\n",
    "\n",
    "def multikj(n):\n",
    "    s=n#size - размер\n",
    "    m7=np.copy(mat1)\n",
    "    m8=np.copy(mat2)\n",
    "    empt_m4=np.copy(zeromat)\n",
    "    start_time=time.time()\n",
    "    for i in range(len(m7)):\n",
    "        for k in range(len(m8)):\n",
    "            for j in range(len(m8[0])):           \n",
    "                empt_m4[i][j]+=m7[i][k]*m8[k][j]\n",
    "    t = time.time()-start_time\n",
    "    print(\"time:\",t)\n",
    "    answer4.append(t)\n",
    "    #print(empt_m4)\n",
    "\n",
    "def multkji(n):\n",
    "    s=n#size - размер\n",
    "    m9=np.copy(mat1)\n",
    "    m10=np.copy(mat2)\n",
    "    empt_m5=np.copy(zeromat)\n",
    "    start_time=time.time()\n",
    "    for k in range(len(m10)):\n",
    "        for j in range(len(m10[0])):\n",
    "            for i in range(len(m9)):                \n",
    "                empt_m5[i][j]+=m9[i][k]*m10[k][j]\n",
    "    t = time.time()-start_time\n",
    "    print(\"time:\",t)\n",
    "    answer5.append(t)\n",
    "    #print(empt_m5)\n",
    "\n",
    "def multkij(n):\n",
    "    s=n#size - размер\n",
    "    m11=np.copy(mat1)\n",
    "    m12=np.copy(mat2)\n",
    "    empt_m6=np.copy(zeromat)  \n",
    "    start_time=time.time()\n",
    "    for k in range(len(m12)):\n",
    "        for i in range(len(m11)):\n",
    "            for j in range(len(m12[0])):           \n",
    "                empt_m6[i][j]+=m11[i][k]*m12[k][j]\n",
    "    t = time.time()-start_time\n",
    "    print(\"time:\",t)\n",
    "    answer6.append(t)\n",
    "    #print(empt_m6)\n",
    "\n",
    "def integrated_algorithm(n):\n",
    "    m11=np.copy(mat1)\n",
    "    m12=np.copy(mat2)\n",
    "    empt_m6=np.copy(zeromat)  \n",
    "    start_time = time.time()\n",
    "    empt_m6 = m11 @ m12\n",
    "    t = time.time()-start_time\n",
    "    print(\"time:\",t)\n",
    "    answer7.append(t)"
   ]
  },
  {
   "cell_type": "markdown",
   "id": "packed-shower",
   "metadata": {},
   "source": [
    "Запустим программу, проинициализировав случайные матрицы большого размера"
   ]
  },
  {
   "cell_type": "code",
   "execution_count": 5,
   "id": "comic-isolation",
   "metadata": {
    "scrolled": true
   },
   "outputs": [
    {
     "name": "stdout",
     "output_type": "stream",
     "text": [
      "time: 0.20632457733154297\n",
      "time: 0.36504602432250977\n",
      "time: 0.2962074279785156\n",
      "time: 0.3102598190307617\n",
      "time: 0.35606932640075684\n",
      "time: 0.3102431297302246\n",
      "time: 0.0\n",
      "\n",
      "time: 0.29858946800231934\n",
      "time: 0.3490316867828369\n",
      "time: 0.31922078132629395\n",
      "time: 0.39888691902160645\n",
      "time: 0.36700987815856934\n",
      "time: 0.32326626777648926\n",
      "time: 0.0\n",
      "\n",
      "time: 0.25807785987854004\n",
      "time: 0.531606912612915\n",
      "time: 0.3481142520904541\n",
      "time: 0.3715975284576416\n",
      "time: 0.385972261428833\n",
      "time: 0.39399218559265137\n",
      "time: 0.0\n",
      "\n",
      "time: 0.4658353328704834\n",
      "time: 0.43088579177856445\n",
      "time: 0.43683815002441406\n",
      "time: 0.40790557861328125\n",
      "time: 0.3999292850494385\n",
      "time: 0.41387319564819336\n",
      "time: 0.0\n",
      "\n",
      "time: 0.5175983905792236\n",
      "time: 0.403764009475708\n",
      "time: 0.4039332866668701\n",
      "time: 0.3835318088531494\n",
      "time: 0.3231394290924072\n",
      "time: 0.3291494846343994\n",
      "time: 0.0\n",
      "\n",
      "time: 0.4140176773071289\n",
      "time: 0.46674656867980957\n",
      "time: 0.39893078804016113\n",
      "time: 0.3749966621398926\n",
      "time: 0.3733973503112793\n",
      "time: 0.39328885078430176\n",
      "time: 0.0\n",
      "\n",
      "time: 0.4448091983795166\n",
      "time: 0.445859432220459\n",
      "time: 0.2812154293060303\n",
      "time: 0.4638082981109619\n",
      "time: 0.47671079635620117\n",
      "time: 0.4557375907897949\n",
      "time: 0.0\n",
      "\n",
      "time: 0.5624966621398926\n",
      "time: 0.4489021301269531\n",
      "time: 0.4556112289428711\n",
      "time: 0.47451066970825195\n",
      "time: 0.4697747230529785\n",
      "time: 0.4538397789001465\n",
      "time: 0.0009968280792236328\n",
      "\n",
      "time: 0.44085049629211426\n",
      "time: 0.45507121086120605\n",
      "time: 0.5066916942596436\n",
      "time: 0.5116305351257324\n",
      "time: 0.5595016479492188\n",
      "time: 0.5714247226715088\n",
      "time: 0.0009970664978027344\n",
      "\n",
      "time: 0.5366108417510986\n",
      "time: 0.514625072479248\n",
      "time: 0.5904779434204102\n",
      "time: 0.5614967346191406\n",
      "time: 0.6013908386230469\n",
      "time: 0.5644881725311279\n",
      "time: 0.0\n",
      "\n",
      "time: 0.6043343544006348\n",
      "time: 0.6512560844421387\n",
      "time: 0.5905263423919678\n",
      "time: 0.5555119514465332\n",
      "time: 0.6382880210876465\n",
      "time: 0.5644359588623047\n",
      "time: 0.0\n",
      "\n"
     ]
    }
   ],
   "source": [
    "answer1 = []#хранение времени выполнения функции\n",
    "answer2 = []\n",
    "answer3 = []\n",
    "answer4 = []\n",
    "answer5 = []\n",
    "answer6 = []\n",
    "answer7 = []\n",
    "rasdel = []\n",
    "\n",
    "for n in range(55, 66):\n",
    "  rasdel.append(n)\n",
    "  mat1=np.random.uniform(5,5,size=(n,n))#1 матрица для умножения\n",
    "  mat2=np.random.uniform(5,5,size=(n,n))#2 мартица для умножения\n",
    "  zeromat=np.zeros((n,n))#нулевая матрица, куда записываем результат умножения\n",
    "  multijk(n)\n",
    "  multjki(n)\n",
    "  multjik(n)\n",
    "  multikj(n)\n",
    "  multkji(n)\n",
    "  multkij(n)\n",
    "  integrated_algorithm(n) ## Используется встроенно перемножение через операцию @\n",
    "  print()"
   ]
  },
  {
   "cell_type": "markdown",
   "id": "authentic-instrument",
   "metadata": {},
   "source": [
    "Построим график зависимости времени работы функции от порядка матрицы."
   ]
  },
  {
   "cell_type": "code",
   "execution_count": 7,
   "id": "solar-drain",
   "metadata": {
    "scrolled": true
   },
   "outputs": [
    {
     "data": {
      "image/png": "[encoded data removed]",
      "text/plain": [
       "<Figure size 432x288 with 1 Axes>"
      ]
     },
     "metadata": {
      "needs_background": "light"
     },
     "output_type": "display_data"
    }
   ],
   "source": [
    "plt.xticks(np.array(rasdel))\n",
    "ijky=np.array(answer1)#время работы функции для матриц разноого порядка\n",
    "plt.plot(np.array(rasdel),ijky,color='tab:red',label='multijk')\n",
    "jkiy= np.array(answer2)#время работы функции для матриц разноого порядка\n",
    "plt.plot(np.array(rasdel),jkiy,color='tab:green',label='multjki')\n",
    "jiky= np.array(answer3)#время работы функции для матриц разноого порядка\n",
    "plt.plot(np.array(rasdel),jiky,color='tab:purple',label='multjik')\n",
    "ikjy= np.array(answer4)#время работы функции для матриц разноого порядка\n",
    "plt.plot(np.array(rasdel),ikjy,color='tab:orange',label='multikj')\n",
    "kjiy= np.array(answer5)#время работы функции для матриц разноого порядка\n",
    "plt.plot(np.array(rasdel),kjiy,color='tab:brown',label='multkji')\n",
    "kijy= np.array(answer6)#время работы функции для матриц разноого порядка\n",
    "plt.plot(np.array(rasdel),kijy,color='tab:cyan',label='multikij')\n",
    "kgg= np.array(answer7)#время работы функции для матриц разноого порядка\n",
    "plt.plot(np.array(rasdel),kgg,color='tab:red', label='int_alg')\n",
    "plt.legend()\n",
    "\n",
    "plt.ylabel('время работы программы')\n",
    "plt.xlabel('порядок матрицы')\n",
    "plt.xlim([min(rasdel), max(rasdel)])\n",
    "plt.title(\"Зависимость времени работы программы от порядка матрицы\")\n",
    "pass"
   ]
  },
  {
   "cell_type": "markdown",
   "id": "extended-electron",
   "metadata": {},
   "source": [
    "На графике представлена зависимость времени работы функции от порядка матрицы. С повышением порядка растет и время. Разница во времени вызвана погрешностями python при вычислении разными фукнциями произведения одних и тех же матриц."
   ]
  }
 ],
 "metadata": {
  "kernelspec": {
   "display_name": "Python 3",
   "language": "python",
   "name": "python3"
  },
  "language_info": {
   "codemirror_mode": {
    "name": "ipython",
    "version": 3
   },
   "file_extension": ".py",
   "mimetype": "text/x-python",
   "name": "python",
   "nbconvert_exporter": "python",
   "pygments_lexer": "ipython3",
   "version": "3.7.9"
  }
 },
 "nbformat": 4,
 "nbformat_minor": 5
}
